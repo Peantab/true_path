{
 "cells": [
  {
   "cell_type": "markdown",
   "metadata": {
    "deletable": true,
    "editable": true
   },
   "source": [
    "# True Path\n",
    "Package providing functions for testing safety of website addresses.\n",
    "\n",
    "Firstly, let's take a look at avaialble Checks. Wherever I mention \"Checks\" in this notebook, I mean a single function of a package. Each of them take two arguments: `address` – being a URL you want to check – and `verbose` – boolean that defaults to False, when set to True, check prints detailed information about itself. (Otherwisely it only prints error messages)"
   ]
  },
  {
   "cell_type": "code",
   "execution_count": null,
   "metadata": {
    "collapsed": true,
    "deletable": true,
    "editable": true
   },
   "outputs": [],
   "source": [
    "import true_path  # run it for examples to work, you can also import the package like that to use it in your projects."
   ]
  },
  {
   "cell_type": "markdown",
   "metadata": {
    "deletable": true,
    "editable": true
   },
   "source": [
    "## Checks overview\n",
    "### safe_url\n",
    "Tests whether URL itself looks safe. The path is considered safe if it begins with `https://` denoting a secured connection, does not contain tricky characters (no greek letters similar to latin, no unicode characters, no control sequences) and only contains @ after slash after domain address (otherwisely everything before it would have been just a username)."
   ]
  },
  {
   "cell_type": "code",
   "execution_count": null,
   "metadata": {
    "collapsed": false,
    "deletable": true,
    "editable": true
   },
   "outputs": [],
   "source": [
    "true_path.safe_url(\"https://ex@mple.com\", verbose=True)  # ex is a username!!!"
   ]
  },
  {
   "cell_type": "code",
   "execution_count": null,
   "metadata": {
    "collapsed": false,
    "deletable": true,
    "editable": true
   },
   "outputs": [],
   "source": [
    "true_path.safe_url(\"https://example.com/@#$\", verbose=True)  # Everything's fine."
   ]
  },
  {
   "cell_type": "code",
   "execution_count": null,
   "metadata": {
    "collapsed": false,
    "deletable": true,
    "editable": true
   },
   "outputs": [],
   "source": [
    "true_path.safe_url(\"https://ex@mple.com\")  # ex is a username!!! (short version, no descriptions)"
   ]
  },
  {
   "cell_type": "code",
   "execution_count": null,
   "metadata": {
    "collapsed": false,
    "deletable": true,
    "editable": true
   },
   "outputs": [],
   "source": [
    "true_path.safe_url(\"https://example.com/@#$\", verbose=False)  # Everything's fine. (short version, no descriptions)"
   ]
  },
  {
   "cell_type": "markdown",
   "metadata": {
    "deletable": true,
    "editable": true
   },
   "source": [
    "### safe_certificate\n",
    "Tests whether website has a valid SSL certificate. True means that the certificate seems OK (which guarantees nothing nowadays), False means either the test has failed or could not have been performed. It depends on Requests library and means something only if your installation of it is up-to-date."
   ]
  },
  {
   "cell_type": "code",
   "execution_count": null,
   "metadata": {
    "collapsed": false,
    "deletable": true,
    "editable": true
   },
   "outputs": [],
   "source": [
    "true_path.safe_certificate(\"https://www.google.com\", verbose=True)"
   ]
  },
  {
   "cell_type": "code",
   "execution_count": null,
   "metadata": {
    "collapsed": false,
    "deletable": true,
    "editable": true
   },
   "outputs": [],
   "source": [
    "true_path.safe_certificate(\"https://expired.badssl.com/\")"
   ]
  },
  {
   "cell_type": "markdown",
   "metadata": {
    "deletable": true,
    "editable": true
   },
   "source": [
    "### popular_site\n",
    "Checks whether the page is popular enough (in Bing's view). It's unlikely your bank's login page if you are the first person ever to visit it.\n",
    "\n",
    "It reads page's title, searches for it in Bing and checks if any of the first five results are from the same domain.\n",
    "\n",
    "False negative is possible if one page is available from different URLs."
   ]
  },
  {
   "cell_type": "code",
   "execution_count": null,
   "metadata": {
    "collapsed": false,
    "deletable": true,
    "editable": true
   },
   "outputs": [],
   "source": [
    "true_path.popular_site(\"https://aliorbank.pl/hades/do/Login\", verbose=True)"
   ]
  },
  {
   "cell_type": "code",
   "execution_count": null,
   "metadata": {
    "collapsed": false,
    "deletable": true,
    "editable": true
   },
   "outputs": [],
   "source": [
    "true_path.popular_site(\"http://127.0.0.1:8888/notebooks/TruePath.ipynb\", verbose=True)  # Localhost is not very popular in the web..."
   ]
  },
  {
   "cell_type": "markdown",
   "metadata": {
    "deletable": true,
    "editable": true
   },
   "source": [
    "### google_safe_browsing\n",
    "Check whether the page is not on one of the Google's unsafe pages lists via Google Safe Browsing API. In case of any errors it returns False as well."
   ]
  },
  {
   "cell_type": "code",
   "execution_count": null,
   "metadata": {
    "collapsed": false,
    "deletable": true,
    "editable": true
   },
   "outputs": [],
   "source": [
    "true_path.google_safe_browsing(\"https://www.google.com\", True)"
   ]
  },
  {
   "cell_type": "code",
   "execution_count": null,
   "metadata": {
    "collapsed": false,
    "deletable": true,
    "editable": true
   },
   "outputs": [],
   "source": [
    "true_path.google_safe_browsing(\"http://www.ianfette.org/\")  # The Internet says, it's fake \"dangerous\" website run by Google. Maybe better do not check...?"
   ]
  },
  {
   "cell_type": "markdown",
   "metadata": {
    "deletable": true,
    "editable": true
   },
   "source": [
    "## Running the whole suite\n",
    "There is also function `true_path.suite`, which runs all the checks at once. It only returns `True` if all individual checks return `True` and prints results of all checks."
   ]
  },
  {
   "cell_type": "code",
   "execution_count": null,
   "metadata": {
    "collapsed": false,
    "deletable": true,
    "editable": true
   },
   "outputs": [],
   "source": [
    "true_path.suite(\"https://www.example.com\", True)"
   ]
  },
  {
   "cell_type": "code",
   "execution_count": null,
   "metadata": {
    "collapsed": false,
    "deletable": true,
    "editable": true
   },
   "outputs": [],
   "source": [
    "true_path.suite(\"https://www.example.com\")"
   ]
  },
  {
   "cell_type": "markdown",
   "metadata": {
    "deletable": true,
    "editable": true
   },
   "source": [
    "## Running from terminal\n",
    "After installation, command `true_path` is available. You can call it like: `true_path https://www.example.com -v`, which will implicitly call `suite(\"https://www.example.com\", verbose=True)`."
   ]
  }
 ],
 "metadata": {
  "kernelspec": {
   "display_name": "Python 3",
   "language": "python",
   "name": "python3"
  },
  "language_info": {
   "codemirror_mode": {
    "name": "ipython",
    "version": 3.0
   },
   "file_extension": ".py",
   "mimetype": "text/x-python",
   "name": "python",
   "nbconvert_exporter": "python",
   "pygments_lexer": "ipython3",
   "version": "3.5.2"
  }
 },
 "nbformat": 4,
 "nbformat_minor": 0
}